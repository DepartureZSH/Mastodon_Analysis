{
 "cells": [
  {
   "cell_type": "code",
   "execution_count": 1,
   "id": "58deb8c5",
   "metadata": {},
   "outputs": [],
   "source": [
    "from dataloader import MASTODON_Example, show_detail, json_to_dataframe"
   ]
  },
  {
   "cell_type": "code",
   "execution_count": 2,
   "id": "9301cab0",
   "metadata": {},
   "outputs": [],
   "source": [
    "df = json_to_dataframe(f\"/home/unnc/ZSH_Summer/Mastodon_Analysis/Analysis/Datasets/Example/livefeeds_splited/241212livefeeds_splited/boostersfavourites_1.json\", from_file=True)"
   ]
  },
  {
   "cell_type": "code",
   "execution_count": 11,
   "id": "6c816815",
   "metadata": {},
   "outputs": [
    {
     "data": {
      "text/html": [
       "<div>\n",
       "<style scoped>\n",
       "    .dataframe tbody tr th:only-of-type {\n",
       "        vertical-align: middle;\n",
       "    }\n",
       "\n",
       "    .dataframe tbody tr th {\n",
       "        vertical-align: top;\n",
       "    }\n",
       "\n",
       "    .dataframe thead th {\n",
       "        text-align: right;\n",
       "    }\n",
       "</style>\n",
       "<table border=\"1\" class=\"dataframe\">\n",
       "  <thead>\n",
       "    <tr style=\"text-align: right;\">\n",
       "      <th></th>\n",
       "      <th>sid</th>\n",
       "    </tr>\n",
       "  </thead>\n",
       "  <tbody>\n",
       "    <tr>\n",
       "      <th>0</th>\n",
       "      <td>quokka.city#anon_id_029b397bc7d6c4826d</td>\n",
       "    </tr>\n",
       "    <tr>\n",
       "      <th>1</th>\n",
       "      <td>woof.group#anon_id_af77fd18e4c54cb204</td>\n",
       "    </tr>\n",
       "    <tr>\n",
       "      <th>2</th>\n",
       "      <td>mastodon.crazynewworld.net#anon_id_8bbf22d7a7c...</td>\n",
       "    </tr>\n",
       "    <tr>\n",
       "      <th>3</th>\n",
       "      <td>blorbo.social#anon_id_7d01603e2286572be0</td>\n",
       "    </tr>\n",
       "    <tr>\n",
       "      <th>4</th>\n",
       "      <td>union.place#anon_id_f9b938c2181980e8c6</td>\n",
       "    </tr>\n",
       "    <tr>\n",
       "      <th>...</th>\n",
       "      <td>...</td>\n",
       "    </tr>\n",
       "    <tr>\n",
       "      <th>69421</th>\n",
       "      <td>mastodon.social#anon_id_72a6718dbb69755984</td>\n",
       "    </tr>\n",
       "    <tr>\n",
       "      <th>69422</th>\n",
       "      <td>mastodon.social#anon_id_3bede10bd5b43d6344</td>\n",
       "    </tr>\n",
       "    <tr>\n",
       "      <th>69423</th>\n",
       "      <td>mastodon.social#anon_id_179e099fb6b7909040</td>\n",
       "    </tr>\n",
       "    <tr>\n",
       "      <th>69424</th>\n",
       "      <td>mastodon.social#anon_id_8d4ff15e6199ccbef3</td>\n",
       "    </tr>\n",
       "    <tr>\n",
       "      <th>69425</th>\n",
       "      <td>mastodon.social#anon_id_7d1f0d28b94437c8eb</td>\n",
       "    </tr>\n",
       "  </tbody>\n",
       "</table>\n",
       "<p>69426 rows × 1 columns</p>\n",
       "</div>"
      ],
      "text/plain": [
       "                                                     sid\n",
       "0                 quokka.city#anon_id_029b397bc7d6c4826d\n",
       "1                  woof.group#anon_id_af77fd18e4c54cb204\n",
       "2      mastodon.crazynewworld.net#anon_id_8bbf22d7a7c...\n",
       "3               blorbo.social#anon_id_7d01603e2286572be0\n",
       "4                 union.place#anon_id_f9b938c2181980e8c6\n",
       "...                                                  ...\n",
       "69421         mastodon.social#anon_id_72a6718dbb69755984\n",
       "69422         mastodon.social#anon_id_3bede10bd5b43d6344\n",
       "69423         mastodon.social#anon_id_179e099fb6b7909040\n",
       "69424         mastodon.social#anon_id_8d4ff15e6199ccbef3\n",
       "69425         mastodon.social#anon_id_7d1f0d28b94437c8eb\n",
       "\n",
       "[69426 rows x 1 columns]"
      ]
     },
     "execution_count": 11,
     "metadata": {},
     "output_type": "execute_result"
    }
   ],
   "source": [
    "df[[\"sid\"]].astype(str)"
   ]
  },
  {
   "cell_type": "code",
   "execution_count": 5,
   "id": "7e44edc3",
   "metadata": {},
   "outputs": [
    {
     "name": "stdout",
     "output_type": "stream",
     "text": [
      "using dataset /home/unnc/ZSH_Summer/Mastodon_Analysis/Analysis/Datasets/Example/livefeeds_splited/241212livefeeds_splited\n"
     ]
    }
   ],
   "source": [
    "data = MASTODON_Example()"
   ]
  },
  {
   "cell_type": "code",
   "execution_count": null,
   "id": "1c78d8cd",
   "metadata": {},
   "outputs": [],
   "source": [
    "df = json_to_dataframe(\"data.json\", from_file=True)\n",
    "print(df.head())"
   ]
  },
  {
   "cell_type": "code",
   "execution_count": 8,
   "id": "61c18e75",
   "metadata": {},
   "outputs": [],
   "source": [
    "def show_data_sample(item):\n",
    "    boostersfavourites = data[0]\n",
    "    return show_detail(boostersfavourites[item])"
   ]
  },
  {
   "cell_type": "code",
   "execution_count": 16,
   "id": "65b46d36",
   "metadata": {},
   "outputs": [
    {
     "data": {
      "text/plain": [
       "['sid:(example oldbytes.space#anon_id_e88230dc1b08cee027)',\n",
       " 'reblogs:[1, [\\'id:(example anon_id_f4dd8990c72805b235)\\', \\'username:(example anon_name_f4dd8990c72805b235)\\', \\'acct:(example anon_acct_f4dd8990c72805b235)\\', \\'display_name:(example Cat)\\', \\'locked:(example False)\\', \\'bot:(example False)\\', \\'discoverable:(example True)\\', \\'indexable:(example True)\\', \\'group:(example False)\\', \\'created_at:(example 2024-10-21T00:00:00.000Z)\\', \\'note:(example <p>Honestly don\\\\\\'t know what to put here. Like to watch <a href=\"https://mstdn.party/tags/anime\" class=\"mention hashtag\" rel=\"nofollow noopener noreferrer\" target=\"_blank\">#<span>anime</span></a> sometimes. Sometimes watching <a href=\"https://mstdn.party/tags/f1\" class=\"mention hashtag\" rel=\"nofollow noopener noreferrer\" target=\"_blank\">#<span>f1</span></a> and <a href=\"https://mstdn.party/tags/football\" class=\"mention hashtag\" rel=\"nofollow noopener noreferrer\" target=\"_blank\">#<span>football</span></a> or <a href=\"https://mstdn.party/tags/soccer\" class=\"mention hashtag\" rel=\"nofollow noopener noreferrer\" target=\"_blank\">#<span>soccer</span></a> for Americans. 19 years old :bisexual_flag:</p>)\\', \\'url:(example https://mstdn.party/@anon_name_ec81930c8044a4e85b)\\', \\'uri:(example https://mstdn.party/users/anon_name_ec81930c8044a4e85b)\\', \\'avatar:(example https://assets.oldbytes.space/assets.oldbytes.space/cache/accounts/avatars/113/421/715/703/925/014/original/d68401e9ba94c330.jpg)\\', \\'avatar_static:(example https://assets.oldbytes.space/assets.oldbytes.space/cache/accounts/avatars/113/421/715/703/925/014/original/d68401e9ba94c330.jpg)\\', \\'header:(example https://oldbytes.space/headers/original/missing.png)\\', \\'header_static:(example https://oldbytes.space/headers/original/missing.png)\\', \\'followers_count:(example 25)\\', \\'following_count:(example 123)\\', \\'statuses_count:(example 1337)\\', \\'last_status_at:(example 2024-12-04)\\', \\'hide_collections:(example False)\\', \"emojis:[1, [\\'shortcode:(example bisexual_flag)\\', \\'url:(example https://assets.oldbytes.space/assets.oldbytes.space/cache/custom_emojis/images/000/129/861/original/883145a3a4b2ec80.png)\\', \\'static_url:(example https://assets.oldbytes.space/assets.oldbytes.space/cache/custom_emojis/images/000/129/861/static/883145a3a4b2ec80.png)\\', \\'visible_in_picker:(example True)\\']]\", \\'fields:[3, [\\\\\\'name:(example Prounouns)\\\\\\', \\\\\\'value:(example She/her)\\\\\\', \"verified_at:unkwon type: <class \\\\\\'NoneType\\\\\\'>\"]]\\']]',\n",
       " 'favourites:[5, [\\'id:(example anon_id_dd91357d552c4efec5)\\', \\'username:(example anon_name_dd91357d552c4efec5)\\', \\'acct:(example anon_acct_dd91357d552c4efec5)\\', \\'display_name:(example Flaky)\\', \\'locked:(example True)\\', \\'bot:(example False)\\', \\'discoverable:(example False)\\', \\'indexable:(example False)\\', \\'group:(example False)\\', \\'created_at:(example 2023-10-23T00:00:00.000Z)\\', \\'note:(example <p>🇬🇧 / chaotic neutral / autist / 27 / mostly sfw here but can be NSFW so 18+ please.</p><p>avatar by Orc_Enk on Twitter</p>)\\', \\'url:(example https://furry.engineer/@anon_name_777a1abadf383ecf13)\\', \\'uri:(example https://furry.engineer/users/anon_name_777a1abadf383ecf13)\\', \\'avatar:(example https://assets.oldbytes.space/assets.oldbytes.space/cache/accounts/avatars/111/298/387/047/274/079/original/20827091d82a5d55.png)\\', \\'avatar_static:(example https://assets.oldbytes.space/assets.oldbytes.space/cache/accounts/avatars/111/298/387/047/274/079/original/20827091d82a5d55.png)\\', \\'header:(example https://oldbytes.space/headers/original/missing.png)\\', \\'header_static:(example https://oldbytes.space/headers/original/missing.png)\\', \\'followers_count:(example 109)\\', \\'following_count:(example 170)\\', \\'statuses_count:(example 3984)\\', \\'last_status_at:(example 2024-12-04)\\', \\'hide_collections:(example False)\\', \\'emojis:[]\\', \\'fields:[3, [\\\\\\'name:(example Bluesky)\\\\\\', \\\\\\'value:(example flaky.bsky.social)\\\\\\', \"verified_at:unkwon type: <class \\\\\\'NoneType\\\\\\'>\"]]\\']]',\n",
       " 'acct:[\\'id:(example anon_id_069ce69ccd55fb7278)\\', \\'username:(example anon_name_069ce69ccd55fb7278)\\', \\'acct:(example anon_acct_069ce69ccd55fb7278)\\', \\'display_name:(example Sinclair-Speccy)\\', \\'locked:(example False)\\', \\'bot:(example False)\\', \\'discoverable:(example True)\\', \\'indexable:(example True)\\', \\'group:(example False)\\', \\'created_at:(example 2023-12-18T00:00:00.000Z)\\', \\'note:(example <p>Resident computer nerd who likes to emulate old stuff in 86box, Basilisk II, QEMU and others. Sometimes share retro tech ads. Will boost retro tech stuff</p>)\\', \\'url:(example https://oldbytes.space/@anon_name_2898efea496985b097)\\', \\'uri:(example https://oldbytes.space/users/anon_name_2898efea496985b097)\\', \\'avatar:(example https://assets.oldbytes.space/assets.oldbytes.space/accounts/avatars/111/598/737/469/128/451/original/d976b59a307b1ddf.jpeg)\\', \\'avatar_static:(example https://assets.oldbytes.space/assets.oldbytes.space/accounts/avatars/111/598/737/469/128/451/original/d976b59a307b1ddf.jpeg)\\', \\'header:(example https://assets.oldbytes.space/assets.oldbytes.space/accounts/headers/111/598/737/469/128/451/original/53e31324c7c3fa15.jpeg)\\', \\'header_static:(example https://assets.oldbytes.space/assets.oldbytes.space/accounts/headers/111/598/737/469/128/451/original/53e31324c7c3fa15.jpeg)\\', \\'followers_count:(example 1005)\\', \\'following_count:(example 131)\\', \\'statuses_count:(example 4771)\\', \\'last_status_at:(example 2024-12-04)\\', \\'hide_collections:(example False)\\', \\'noindex:(example False)\\', \\'emojis:[]\\', \\'roles:[]\\', \\'fields:[3, [\\\\\\'name:(example The Mainframe (my site))\\\\\\', \\\\\\'value:(example <a href=\"https://sinclair-speccy.github.io/The-Mainframe/\" target=\"_blank\" rel=\"nofollow noopener noreferrer me\" translate=\"no\"><span class=\"invisible\">https://</span><span class=\"ellipsis\">sinclair-speccy.github.io/The-</span><span class=\"invisible\">Mainframe/</span></a>)\\\\\\', \\\\\\'verified_at:(example 2024-02-10T11:04:10.266+00:00)\\\\\\']]\\']']"
      ]
     },
     "execution_count": 16,
     "metadata": {},
     "output_type": "execute_result"
    }
   ],
   "source": [
    "show_data_sample(8)"
   ]
  },
  {
   "cell_type": "code",
   "execution_count": 6,
   "id": "032d5bc1",
   "metadata": {},
   "outputs": [
    {
     "data": {
      "text/plain": [
       "dict_keys(['sid', 'reblogs', 'favourites', 'acct'])"
      ]
     },
     "execution_count": 6,
     "metadata": {},
     "output_type": "execute_result"
    }
   ],
   "source": [
    "data_sample[0].keys()"
   ]
  },
  {
   "cell_type": "code",
   "execution_count": 7,
   "id": "8cc12ef0",
   "metadata": {},
   "outputs": [
    {
     "data": {
      "text/plain": [
       "'quokka.city#anon_id_029b397bc7d6c4826d'"
      ]
     },
     "execution_count": 7,
     "metadata": {},
     "output_type": "execute_result"
    }
   ],
   "source": [
    "data_sample[0]['sid']"
   ]
  },
  {
   "cell_type": "code",
   "execution_count": 8,
   "id": "d874dbaa",
   "metadata": {},
   "outputs": [
    {
     "data": {
      "text/plain": [
       "[]"
      ]
     },
     "execution_count": 8,
     "metadata": {},
     "output_type": "execute_result"
    }
   ],
   "source": [
    "data_sample[0]['reblogs']"
   ]
  },
  {
   "cell_type": "code",
   "execution_count": 9,
   "id": "9397b308",
   "metadata": {},
   "outputs": [
    {
     "data": {
      "text/plain": [
       "[{'id': 'anon_id_985e436247f261d11b',\n",
       "  'username': 'anon_name_985e436247f261d11b',\n",
       "  'acct': 'anon_acct_985e436247f261d11b',\n",
       "  'display_name': ':upvt:',\n",
       "  'locked': True,\n",
       "  'bot': False,\n",
       "  'discoverable': False,\n",
       "  'indexable': False,\n",
       "  'group': False,\n",
       "  'created_at': '2024-06-02T00:00:00.000Z',\n",
       "  'note': '<p>♡ <span class=\"h-card\" translate=\"no\"><a href=\"https://quokka.city/@CaptainSpaceboy\" class=\"u-url mention\">@<span>CaptainSpaceboy</span></a></span> ♡</p>',\n",
       "  'url': 'https://quokka.city/@anon_name_e3cccf322ad0d07284',\n",
       "  'uri': 'https://quokka.city/users/anon_name_e3cccf322ad0d07284',\n",
       "  'avatar': 'https://cdn.masto.host/quokkacity/accounts/avatars/112/549/391/118/801/982/original/4eea04b94062fcf9.png',\n",
       "  'avatar_static': 'https://cdn.masto.host/quokkacity/accounts/avatars/112/549/391/118/801/982/original/4eea04b94062fcf9.png',\n",
       "  'header': 'https://cdn.masto.host/quokkacity/accounts/headers/112/549/391/118/801/982/original/73aa95e264f825a1.jpg',\n",
       "  'header_static': 'https://cdn.masto.host/quokkacity/accounts/headers/112/549/391/118/801/982/original/73aa95e264f825a1.jpg',\n",
       "  'followers_count': 85,\n",
       "  'following_count': 85,\n",
       "  'statuses_count': 2382,\n",
       "  'last_status_at': '2024-12-05',\n",
       "  'hide_collections': True,\n",
       "  'noindex': True,\n",
       "  'emojis': [{'shortcode': 'upvt',\n",
       "    'url': 'https://cdn.masto.host/quokkacity/custom_emojis/images/000/002/667/original/4c79eda53dbc1a2c.png',\n",
       "    'static_url': 'https://cdn.masto.host/quokkacity/custom_emojis/images/000/002/667/static/4c79eda53dbc1a2c.png',\n",
       "    'visible_in_picker': True}],\n",
       "  'roles': [],\n",
       "  'fields': [{'name': '(◍•ᴗ•◍)',\n",
       "    'value': 'my name is nik! he/they + 24yrs old',\n",
       "    'verified_at': None},\n",
       "   {'name': 'extended',\n",
       "    'value': '<a href=\"https://rentry.co/soulwalker\" target=\"_blank\" rel=\"nofollow noopener noreferrer me\" translate=\"no\"><span class=\"invisible\">https://</span><span class=\"\">rentry.co/soulwalker</span><span class=\"invisible\"></span></a>',\n",
       "    'verified_at': None},\n",
       "   {'name': 'boundaries',\n",
       "    'value': 'please don&#39;t mention vtubers around me',\n",
       "    'verified_at': None},\n",
       "   {'name': 'art credit',\n",
       "    'value': '<a href=\"https://www.tumblr.com/camo-thy/693491713841545216/still-obsessed-with-osulans-another-dream-omori?source=share\" target=\"_blank\" rel=\"nofollow noopener noreferrer me\" translate=\"no\"><span class=\"invisible\">https://www.</span><span class=\"ellipsis\">tumblr.com/camo-thy/6934917138</span><span class=\"invisible\">41545216/still-obsessed-with-osulans-another-dream-omori?source=share</span></a>',\n",
       "    'verified_at': None}]},\n",
       " {'id': 'anon_id_05f667558a5a0910a8',\n",
       "  'username': 'anon_name_05f667558a5a0910a8',\n",
       "  'acct': 'anon_acct_05f667558a5a0910a8',\n",
       "  'display_name': 'ant',\n",
       "  'locked': False,\n",
       "  'bot': False,\n",
       "  'discoverable': None,\n",
       "  'indexable': False,\n",
       "  'group': False,\n",
       "  'created_at': '2024-06-02T00:00:00.000Z',\n",
       "  'note': '<p>antares or nana (among j and co). 21 years old. coder. music composer. science hobbyist. chronic introvert. system. no proxies, no list. my special interests are cultural anthropology, astrophysics and quantum theory, and i dabble in biochemistry.</p>',\n",
       "  'url': 'https://quokka.city/@anon_name_7655911c7873f9868e',\n",
       "  'uri': 'https://quokka.city/users/anon_name_7655911c7873f9868e',\n",
       "  'avatar': 'https://cdn.masto.host/quokkacity/accounts/avatars/112/549/300/961/647/802/original/d5e7a6bb854c372f.jpg',\n",
       "  'avatar_static': 'https://cdn.masto.host/quokkacity/accounts/avatars/112/549/300/961/647/802/original/d5e7a6bb854c372f.jpg',\n",
       "  'header': 'https://cdn.masto.host/quokkacity/accounts/headers/112/549/300/961/647/802/original/52ca29e0298225df.png',\n",
       "  'header_static': 'https://cdn.masto.host/quokkacity/accounts/headers/112/549/300/961/647/802/original/52ca29e0298225df.png',\n",
       "  'followers_count': 47,\n",
       "  'following_count': 49,\n",
       "  'statuses_count': 3254,\n",
       "  'last_status_at': '2024-12-05',\n",
       "  'hide_collections': None,\n",
       "  'noindex': False,\n",
       "  'emojis': [],\n",
       "  'roles': [],\n",
       "  'fields': [{'name': 'pronouns',\n",
       "    'value': 'he/him she/her they/them',\n",
       "    'verified_at': None},\n",
       "   {'name': 'quotev', 'value': '@/hitorie', 'verified_at': None},\n",
       "   {'name': 'site',\n",
       "    'value': '<a href=\"https://sequiturevolution.straw.page/\" target=\"_blank\" rel=\"nofollow noopener noreferrer me\" translate=\"no\"><span class=\"invisible\">https://</span><span class=\"\">sequiturevolution.straw.page/</span><span class=\"invisible\"></span></a>',\n",
       "    'verified_at': None}]}]"
      ]
     },
     "execution_count": 9,
     "metadata": {},
     "output_type": "execute_result"
    }
   ],
   "source": [
    "data_sample[0]['favourites']"
   ]
  },
  {
   "cell_type": "code",
   "execution_count": 10,
   "id": "82a5f7de",
   "metadata": {},
   "outputs": [
    {
     "data": {
      "text/plain": [
       "{'id': 'anon_id_8e4e3588be1695ed67',\n",
       " 'username': 'anon_name_8e4e3588be1695ed67',\n",
       " 'acct': 'anon_acct_8e4e3588be1695ed67',\n",
       " 'display_name': 'danz :vf:',\n",
       " 'locked': True,\n",
       " 'bot': False,\n",
       " 'discoverable': True,\n",
       " 'indexable': False,\n",
       " 'group': False,\n",
       " 'created_at': '2024-06-02T00:00:00.000Z',\n",
       " 'note': '<p>☾☆ number one zuko fan | otf i like friends ☾☆</p>',\n",
       " 'url': 'https://quokka.city/@anon_name_7218de2b5cf888c7be',\n",
       " 'uri': 'https://quokka.city/users/anon_name_7218de2b5cf888c7be',\n",
       " 'avatar': 'https://cdn.masto.host/quokkacity/accounts/avatars/112/549/311/743/157/784/original/d3e1ec86324bbcc2.jpeg',\n",
       " 'avatar_static': 'https://cdn.masto.host/quokkacity/accounts/avatars/112/549/311/743/157/784/original/d3e1ec86324bbcc2.jpeg',\n",
       " 'header': 'https://cdn.masto.host/quokkacity/accounts/headers/112/549/311/743/157/784/original/a35be0ff6f6c7b65.jpeg',\n",
       " 'header_static': 'https://cdn.masto.host/quokkacity/accounts/headers/112/549/311/743/157/784/original/a35be0ff6f6c7b65.jpeg',\n",
       " 'followers_count': 108,\n",
       " 'following_count': 108,\n",
       " 'statuses_count': 16526,\n",
       " 'last_status_at': '2024-12-04',\n",
       " 'hide_collections': False,\n",
       " 'noindex': True,\n",
       " 'emojis': [{'shortcode': 'vf',\n",
       "   'url': 'https://cdn.masto.host/quokkacity/custom_emojis/images/000/002/619/original/aee78fafd7a70972.png',\n",
       "   'static_url': 'https://cdn.masto.host/quokkacity/custom_emojis/images/000/002/619/static/aee78fafd7a70972.png',\n",
       "   'visible_in_picker': True}],\n",
       " 'roles': [],\n",
       " 'fields': [{'name': '✧ pronouns ! ✧',\n",
       "   'value': 'she / her + luma + star',\n",
       "   'verified_at': None},\n",
       "  {'name': '✧ identity ! ✧', 'value': 'aroace demigirl', 'verified_at': None},\n",
       "  {'name': '✧ age ! ✧', 'value': '18', 'verified_at': None},\n",
       "  {'name': '✧ interests ! ✧',\n",
       "   'value': 'atla , zuko , hsr , drawing , a lot more lol',\n",
       "   'verified_at': None}]}"
      ]
     },
     "execution_count": 10,
     "metadata": {},
     "output_type": "execute_result"
    }
   ],
   "source": [
    "data_sample[0]['acct']"
   ]
  },
  {
   "cell_type": "code",
   "execution_count": null,
   "id": "5b12967a",
   "metadata": {},
   "outputs": [],
   "source": []
  },
  {
   "cell_type": "code",
   "execution_count": null,
   "id": "40b2dd11",
   "metadata": {},
   "outputs": [],
   "source": [
    "folder_split = \"Example/livefeeds_splited/241212livefeeds_splited\""
   ]
  }
 ],
 "metadata": {
  "kernelspec": {
   "display_name": "MASTODON",
   "language": "python",
   "name": "mastodon"
  },
  "language_info": {
   "codemirror_mode": {
    "name": "ipython",
    "version": 3
   },
   "file_extension": ".py",
   "mimetype": "text/x-python",
   "name": "python",
   "nbconvert_exporter": "python",
   "pygments_lexer": "ipython3",
   "version": "3.13.2"
  }
 },
 "nbformat": 4,
 "nbformat_minor": 5
}
